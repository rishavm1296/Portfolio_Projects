{
 "cells": [
  {
   "cell_type": "code",
   "execution_count": 1,
   "id": "25f723fe",
   "metadata": {},
   "outputs": [],
   "source": [
    "import pandas as pd\n",
    "import numpy as np\n"
   ]
  },
  {
   "cell_type": "code",
   "execution_count": 2,
   "id": "6961aeb8",
   "metadata": {},
   "outputs": [],
   "source": [
    "df=pd.read_csv('Salaries.csv',low_memory=False)"
   ]
  },
  {
   "cell_type": "markdown",
   "id": "c394e10c",
   "metadata": {},
   "source": [
    "# Printing first Ten rows"
   ]
  },
  {
   "cell_type": "code",
   "execution_count": 3,
   "id": "bc6d69f6",
   "metadata": {},
   "outputs": [
    {
     "data": {
      "text/html": [
       "<div>\n",
       "<style scoped>\n",
       "    .dataframe tbody tr th:only-of-type {\n",
       "        vertical-align: middle;\n",
       "    }\n",
       "\n",
       "    .dataframe tbody tr th {\n",
       "        vertical-align: top;\n",
       "    }\n",
       "\n",
       "    .dataframe thead th {\n",
       "        text-align: right;\n",
       "    }\n",
       "</style>\n",
       "<table border=\"1\" class=\"dataframe\">\n",
       "  <thead>\n",
       "    <tr style=\"text-align: right;\">\n",
       "      <th></th>\n",
       "      <th>Id</th>\n",
       "      <th>EmployeeName</th>\n",
       "      <th>JobTitle</th>\n",
       "      <th>BasePay</th>\n",
       "      <th>OvertimePay</th>\n",
       "      <th>OtherPay</th>\n",
       "      <th>Benefits</th>\n",
       "      <th>TotalPay</th>\n",
       "      <th>TotalPayBenefits</th>\n",
       "      <th>Year</th>\n",
       "      <th>Notes</th>\n",
       "      <th>Agency</th>\n",
       "      <th>Status</th>\n",
       "    </tr>\n",
       "  </thead>\n",
       "  <tbody>\n",
       "    <tr>\n",
       "      <th>0</th>\n",
       "      <td>1</td>\n",
       "      <td>NATHANIEL FORD</td>\n",
       "      <td>GENERAL MANAGER-METROPOLITAN TRANSIT AUTHORITY</td>\n",
       "      <td>167411.18</td>\n",
       "      <td>0.0</td>\n",
       "      <td>400184.25</td>\n",
       "      <td>NaN</td>\n",
       "      <td>567595.43</td>\n",
       "      <td>567595.43</td>\n",
       "      <td>2011</td>\n",
       "      <td>NaN</td>\n",
       "      <td>San Francisco</td>\n",
       "      <td>NaN</td>\n",
       "    </tr>\n",
       "    <tr>\n",
       "      <th>1</th>\n",
       "      <td>2</td>\n",
       "      <td>GARY JIMENEZ</td>\n",
       "      <td>CAPTAIN III (POLICE DEPARTMENT)</td>\n",
       "      <td>155966.02</td>\n",
       "      <td>245131.88</td>\n",
       "      <td>137811.38</td>\n",
       "      <td>NaN</td>\n",
       "      <td>538909.28</td>\n",
       "      <td>538909.28</td>\n",
       "      <td>2011</td>\n",
       "      <td>NaN</td>\n",
       "      <td>San Francisco</td>\n",
       "      <td>NaN</td>\n",
       "    </tr>\n",
       "    <tr>\n",
       "      <th>2</th>\n",
       "      <td>3</td>\n",
       "      <td>ALBERT PARDINI</td>\n",
       "      <td>CAPTAIN III (POLICE DEPARTMENT)</td>\n",
       "      <td>212739.13</td>\n",
       "      <td>106088.18</td>\n",
       "      <td>16452.6</td>\n",
       "      <td>NaN</td>\n",
       "      <td>335279.91</td>\n",
       "      <td>335279.91</td>\n",
       "      <td>2011</td>\n",
       "      <td>NaN</td>\n",
       "      <td>San Francisco</td>\n",
       "      <td>NaN</td>\n",
       "    </tr>\n",
       "    <tr>\n",
       "      <th>3</th>\n",
       "      <td>4</td>\n",
       "      <td>CHRISTOPHER CHONG</td>\n",
       "      <td>WIRE ROPE CABLE MAINTENANCE MECHANIC</td>\n",
       "      <td>77916.0</td>\n",
       "      <td>56120.71</td>\n",
       "      <td>198306.9</td>\n",
       "      <td>NaN</td>\n",
       "      <td>332343.61</td>\n",
       "      <td>332343.61</td>\n",
       "      <td>2011</td>\n",
       "      <td>NaN</td>\n",
       "      <td>San Francisco</td>\n",
       "      <td>NaN</td>\n",
       "    </tr>\n",
       "    <tr>\n",
       "      <th>4</th>\n",
       "      <td>5</td>\n",
       "      <td>PATRICK GARDNER</td>\n",
       "      <td>DEPUTY CHIEF OF DEPARTMENT,(FIRE DEPARTMENT)</td>\n",
       "      <td>134401.6</td>\n",
       "      <td>9737.0</td>\n",
       "      <td>182234.59</td>\n",
       "      <td>NaN</td>\n",
       "      <td>326373.19</td>\n",
       "      <td>326373.19</td>\n",
       "      <td>2011</td>\n",
       "      <td>NaN</td>\n",
       "      <td>San Francisco</td>\n",
       "      <td>NaN</td>\n",
       "    </tr>\n",
       "    <tr>\n",
       "      <th>5</th>\n",
       "      <td>6</td>\n",
       "      <td>DAVID SULLIVAN</td>\n",
       "      <td>ASSISTANT DEPUTY CHIEF II</td>\n",
       "      <td>118602.0</td>\n",
       "      <td>8601.0</td>\n",
       "      <td>189082.74</td>\n",
       "      <td>NaN</td>\n",
       "      <td>316285.74</td>\n",
       "      <td>316285.74</td>\n",
       "      <td>2011</td>\n",
       "      <td>NaN</td>\n",
       "      <td>San Francisco</td>\n",
       "      <td>NaN</td>\n",
       "    </tr>\n",
       "    <tr>\n",
       "      <th>6</th>\n",
       "      <td>7</td>\n",
       "      <td>ALSON LEE</td>\n",
       "      <td>BATTALION CHIEF, (FIRE DEPARTMENT)</td>\n",
       "      <td>92492.01</td>\n",
       "      <td>89062.9</td>\n",
       "      <td>134426.14</td>\n",
       "      <td>NaN</td>\n",
       "      <td>315981.05</td>\n",
       "      <td>315981.05</td>\n",
       "      <td>2011</td>\n",
       "      <td>NaN</td>\n",
       "      <td>San Francisco</td>\n",
       "      <td>NaN</td>\n",
       "    </tr>\n",
       "    <tr>\n",
       "      <th>7</th>\n",
       "      <td>8</td>\n",
       "      <td>DAVID KUSHNER</td>\n",
       "      <td>DEPUTY DIRECTOR OF INVESTMENTS</td>\n",
       "      <td>256576.96</td>\n",
       "      <td>0.0</td>\n",
       "      <td>51322.5</td>\n",
       "      <td>NaN</td>\n",
       "      <td>307899.46</td>\n",
       "      <td>307899.46</td>\n",
       "      <td>2011</td>\n",
       "      <td>NaN</td>\n",
       "      <td>San Francisco</td>\n",
       "      <td>NaN</td>\n",
       "    </tr>\n",
       "    <tr>\n",
       "      <th>8</th>\n",
       "      <td>9</td>\n",
       "      <td>MICHAEL MORRIS</td>\n",
       "      <td>BATTALION CHIEF, (FIRE DEPARTMENT)</td>\n",
       "      <td>176932.64</td>\n",
       "      <td>86362.68</td>\n",
       "      <td>40132.23</td>\n",
       "      <td>NaN</td>\n",
       "      <td>303427.55</td>\n",
       "      <td>303427.55</td>\n",
       "      <td>2011</td>\n",
       "      <td>NaN</td>\n",
       "      <td>San Francisco</td>\n",
       "      <td>NaN</td>\n",
       "    </tr>\n",
       "    <tr>\n",
       "      <th>9</th>\n",
       "      <td>10</td>\n",
       "      <td>JOANNE HAYES-WHITE</td>\n",
       "      <td>CHIEF OF DEPARTMENT, (FIRE DEPARTMENT)</td>\n",
       "      <td>285262.0</td>\n",
       "      <td>0.0</td>\n",
       "      <td>17115.73</td>\n",
       "      <td>NaN</td>\n",
       "      <td>302377.73</td>\n",
       "      <td>302377.73</td>\n",
       "      <td>2011</td>\n",
       "      <td>NaN</td>\n",
       "      <td>San Francisco</td>\n",
       "      <td>NaN</td>\n",
       "    </tr>\n",
       "  </tbody>\n",
       "</table>\n",
       "</div>"
      ],
      "text/plain": [
       "   Id        EmployeeName                                        JobTitle   \n",
       "0   1      NATHANIEL FORD  GENERAL MANAGER-METROPOLITAN TRANSIT AUTHORITY  \\\n",
       "1   2        GARY JIMENEZ                 CAPTAIN III (POLICE DEPARTMENT)   \n",
       "2   3      ALBERT PARDINI                 CAPTAIN III (POLICE DEPARTMENT)   \n",
       "3   4   CHRISTOPHER CHONG            WIRE ROPE CABLE MAINTENANCE MECHANIC   \n",
       "4   5     PATRICK GARDNER    DEPUTY CHIEF OF DEPARTMENT,(FIRE DEPARTMENT)   \n",
       "5   6      DAVID SULLIVAN                       ASSISTANT DEPUTY CHIEF II   \n",
       "6   7           ALSON LEE              BATTALION CHIEF, (FIRE DEPARTMENT)   \n",
       "7   8       DAVID KUSHNER                  DEPUTY DIRECTOR OF INVESTMENTS   \n",
       "8   9      MICHAEL MORRIS              BATTALION CHIEF, (FIRE DEPARTMENT)   \n",
       "9  10  JOANNE HAYES-WHITE          CHIEF OF DEPARTMENT, (FIRE DEPARTMENT)   \n",
       "\n",
       "     BasePay OvertimePay   OtherPay Benefits   TotalPay  TotalPayBenefits   \n",
       "0  167411.18         0.0  400184.25      NaN  567595.43         567595.43  \\\n",
       "1  155966.02   245131.88  137811.38      NaN  538909.28         538909.28   \n",
       "2  212739.13   106088.18    16452.6      NaN  335279.91         335279.91   \n",
       "3    77916.0    56120.71   198306.9      NaN  332343.61         332343.61   \n",
       "4   134401.6      9737.0  182234.59      NaN  326373.19         326373.19   \n",
       "5   118602.0      8601.0  189082.74      NaN  316285.74         316285.74   \n",
       "6   92492.01     89062.9  134426.14      NaN  315981.05         315981.05   \n",
       "7  256576.96         0.0    51322.5      NaN  307899.46         307899.46   \n",
       "8  176932.64    86362.68   40132.23      NaN  303427.55         303427.55   \n",
       "9   285262.0         0.0   17115.73      NaN  302377.73         302377.73   \n",
       "\n",
       "   Year  Notes         Agency Status  \n",
       "0  2011    NaN  San Francisco    NaN  \n",
       "1  2011    NaN  San Francisco    NaN  \n",
       "2  2011    NaN  San Francisco    NaN  \n",
       "3  2011    NaN  San Francisco    NaN  \n",
       "4  2011    NaN  San Francisco    NaN  \n",
       "5  2011    NaN  San Francisco    NaN  \n",
       "6  2011    NaN  San Francisco    NaN  \n",
       "7  2011    NaN  San Francisco    NaN  \n",
       "8  2011    NaN  San Francisco    NaN  \n",
       "9  2011    NaN  San Francisco    NaN  "
      ]
     },
     "execution_count": 3,
     "metadata": {},
     "output_type": "execute_result"
    }
   ],
   "source": [
    "df.head(10)"
   ]
  },
  {
   "cell_type": "markdown",
   "id": "baf7026b",
   "metadata": {},
   "source": [
    "# Printing last Ten rows"
   ]
  },
  {
   "cell_type": "code",
   "execution_count": 4,
   "id": "c9a9b759",
   "metadata": {},
   "outputs": [
    {
     "data": {
      "text/html": [
       "<div>\n",
       "<style scoped>\n",
       "    .dataframe tbody tr th:only-of-type {\n",
       "        vertical-align: middle;\n",
       "    }\n",
       "\n",
       "    .dataframe tbody tr th {\n",
       "        vertical-align: top;\n",
       "    }\n",
       "\n",
       "    .dataframe thead th {\n",
       "        text-align: right;\n",
       "    }\n",
       "</style>\n",
       "<table border=\"1\" class=\"dataframe\">\n",
       "  <thead>\n",
       "    <tr style=\"text-align: right;\">\n",
       "      <th></th>\n",
       "      <th>Id</th>\n",
       "      <th>EmployeeName</th>\n",
       "      <th>JobTitle</th>\n",
       "      <th>BasePay</th>\n",
       "      <th>OvertimePay</th>\n",
       "      <th>OtherPay</th>\n",
       "      <th>Benefits</th>\n",
       "      <th>TotalPay</th>\n",
       "      <th>TotalPayBenefits</th>\n",
       "      <th>Year</th>\n",
       "      <th>Notes</th>\n",
       "      <th>Agency</th>\n",
       "      <th>Status</th>\n",
       "    </tr>\n",
       "  </thead>\n",
       "  <tbody>\n",
       "    <tr>\n",
       "      <th>148644</th>\n",
       "      <td>148645</td>\n",
       "      <td>Randy D Winn</td>\n",
       "      <td>Stationary Eng, Sewage Plant</td>\n",
       "      <td>0.00</td>\n",
       "      <td>0.00</td>\n",
       "      <td>0.00</td>\n",
       "      <td>0.00</td>\n",
       "      <td>0.00</td>\n",
       "      <td>0.00</td>\n",
       "      <td>2014</td>\n",
       "      <td>NaN</td>\n",
       "      <td>San Francisco</td>\n",
       "      <td>PT</td>\n",
       "    </tr>\n",
       "    <tr>\n",
       "      <th>148645</th>\n",
       "      <td>148646</td>\n",
       "      <td>Carolyn A Wilson</td>\n",
       "      <td>Human Services Technician</td>\n",
       "      <td>0.00</td>\n",
       "      <td>0.00</td>\n",
       "      <td>0.00</td>\n",
       "      <td>0.00</td>\n",
       "      <td>0.00</td>\n",
       "      <td>0.00</td>\n",
       "      <td>2014</td>\n",
       "      <td>NaN</td>\n",
       "      <td>San Francisco</td>\n",
       "      <td>PT</td>\n",
       "    </tr>\n",
       "    <tr>\n",
       "      <th>148646</th>\n",
       "      <td>148647</td>\n",
       "      <td>Not provided</td>\n",
       "      <td>Not provided</td>\n",
       "      <td>Not Provided</td>\n",
       "      <td>Not Provided</td>\n",
       "      <td>Not Provided</td>\n",
       "      <td>Not Provided</td>\n",
       "      <td>0.00</td>\n",
       "      <td>0.00</td>\n",
       "      <td>2014</td>\n",
       "      <td>NaN</td>\n",
       "      <td>San Francisco</td>\n",
       "      <td>NaN</td>\n",
       "    </tr>\n",
       "    <tr>\n",
       "      <th>148647</th>\n",
       "      <td>148648</td>\n",
       "      <td>Joann Anderson</td>\n",
       "      <td>Communications Dispatcher 2</td>\n",
       "      <td>0.00</td>\n",
       "      <td>0.00</td>\n",
       "      <td>0.00</td>\n",
       "      <td>0.00</td>\n",
       "      <td>0.00</td>\n",
       "      <td>0.00</td>\n",
       "      <td>2014</td>\n",
       "      <td>NaN</td>\n",
       "      <td>San Francisco</td>\n",
       "      <td>PT</td>\n",
       "    </tr>\n",
       "    <tr>\n",
       "      <th>148648</th>\n",
       "      <td>148649</td>\n",
       "      <td>Leon Walker</td>\n",
       "      <td>Custodian</td>\n",
       "      <td>0.00</td>\n",
       "      <td>0.00</td>\n",
       "      <td>0.00</td>\n",
       "      <td>0.00</td>\n",
       "      <td>0.00</td>\n",
       "      <td>0.00</td>\n",
       "      <td>2014</td>\n",
       "      <td>NaN</td>\n",
       "      <td>San Francisco</td>\n",
       "      <td>PT</td>\n",
       "    </tr>\n",
       "    <tr>\n",
       "      <th>148649</th>\n",
       "      <td>148650</td>\n",
       "      <td>Roy I Tillery</td>\n",
       "      <td>Custodian</td>\n",
       "      <td>0.00</td>\n",
       "      <td>0.00</td>\n",
       "      <td>0.00</td>\n",
       "      <td>0.00</td>\n",
       "      <td>0.00</td>\n",
       "      <td>0.00</td>\n",
       "      <td>2014</td>\n",
       "      <td>NaN</td>\n",
       "      <td>San Francisco</td>\n",
       "      <td>PT</td>\n",
       "    </tr>\n",
       "    <tr>\n",
       "      <th>148650</th>\n",
       "      <td>148651</td>\n",
       "      <td>Not provided</td>\n",
       "      <td>Not provided</td>\n",
       "      <td>Not Provided</td>\n",
       "      <td>Not Provided</td>\n",
       "      <td>Not Provided</td>\n",
       "      <td>Not Provided</td>\n",
       "      <td>0.00</td>\n",
       "      <td>0.00</td>\n",
       "      <td>2014</td>\n",
       "      <td>NaN</td>\n",
       "      <td>San Francisco</td>\n",
       "      <td>NaN</td>\n",
       "    </tr>\n",
       "    <tr>\n",
       "      <th>148651</th>\n",
       "      <td>148652</td>\n",
       "      <td>Not provided</td>\n",
       "      <td>Not provided</td>\n",
       "      <td>Not Provided</td>\n",
       "      <td>Not Provided</td>\n",
       "      <td>Not Provided</td>\n",
       "      <td>Not Provided</td>\n",
       "      <td>0.00</td>\n",
       "      <td>0.00</td>\n",
       "      <td>2014</td>\n",
       "      <td>NaN</td>\n",
       "      <td>San Francisco</td>\n",
       "      <td>NaN</td>\n",
       "    </tr>\n",
       "    <tr>\n",
       "      <th>148652</th>\n",
       "      <td>148653</td>\n",
       "      <td>Not provided</td>\n",
       "      <td>Not provided</td>\n",
       "      <td>Not Provided</td>\n",
       "      <td>Not Provided</td>\n",
       "      <td>Not Provided</td>\n",
       "      <td>Not Provided</td>\n",
       "      <td>0.00</td>\n",
       "      <td>0.00</td>\n",
       "      <td>2014</td>\n",
       "      <td>NaN</td>\n",
       "      <td>San Francisco</td>\n",
       "      <td>NaN</td>\n",
       "    </tr>\n",
       "    <tr>\n",
       "      <th>148653</th>\n",
       "      <td>148654</td>\n",
       "      <td>Joe Lopez</td>\n",
       "      <td>Counselor, Log Cabin Ranch</td>\n",
       "      <td>0.00</td>\n",
       "      <td>0.00</td>\n",
       "      <td>-618.13</td>\n",
       "      <td>0.00</td>\n",
       "      <td>-618.13</td>\n",
       "      <td>-618.13</td>\n",
       "      <td>2014</td>\n",
       "      <td>NaN</td>\n",
       "      <td>San Francisco</td>\n",
       "      <td>PT</td>\n",
       "    </tr>\n",
       "  </tbody>\n",
       "</table>\n",
       "</div>"
      ],
      "text/plain": [
       "            Id      EmployeeName                      JobTitle       BasePay   \n",
       "148644  148645      Randy D Winn  Stationary Eng, Sewage Plant          0.00  \\\n",
       "148645  148646  Carolyn A Wilson     Human Services Technician          0.00   \n",
       "148646  148647      Not provided                  Not provided  Not Provided   \n",
       "148647  148648    Joann Anderson   Communications Dispatcher 2          0.00   \n",
       "148648  148649       Leon Walker                     Custodian          0.00   \n",
       "148649  148650     Roy I Tillery                     Custodian          0.00   \n",
       "148650  148651      Not provided                  Not provided  Not Provided   \n",
       "148651  148652      Not provided                  Not provided  Not Provided   \n",
       "148652  148653      Not provided                  Not provided  Not Provided   \n",
       "148653  148654         Joe Lopez    Counselor, Log Cabin Ranch          0.00   \n",
       "\n",
       "         OvertimePay      OtherPay      Benefits  TotalPay  TotalPayBenefits   \n",
       "148644          0.00          0.00          0.00      0.00              0.00  \\\n",
       "148645          0.00          0.00          0.00      0.00              0.00   \n",
       "148646  Not Provided  Not Provided  Not Provided      0.00              0.00   \n",
       "148647          0.00          0.00          0.00      0.00              0.00   \n",
       "148648          0.00          0.00          0.00      0.00              0.00   \n",
       "148649          0.00          0.00          0.00      0.00              0.00   \n",
       "148650  Not Provided  Not Provided  Not Provided      0.00              0.00   \n",
       "148651  Not Provided  Not Provided  Not Provided      0.00              0.00   \n",
       "148652  Not Provided  Not Provided  Not Provided      0.00              0.00   \n",
       "148653          0.00       -618.13          0.00   -618.13           -618.13   \n",
       "\n",
       "        Year  Notes         Agency Status  \n",
       "148644  2014    NaN  San Francisco     PT  \n",
       "148645  2014    NaN  San Francisco     PT  \n",
       "148646  2014    NaN  San Francisco    NaN  \n",
       "148647  2014    NaN  San Francisco     PT  \n",
       "148648  2014    NaN  San Francisco     PT  \n",
       "148649  2014    NaN  San Francisco     PT  \n",
       "148650  2014    NaN  San Francisco    NaN  \n",
       "148651  2014    NaN  San Francisco    NaN  \n",
       "148652  2014    NaN  San Francisco    NaN  \n",
       "148653  2014    NaN  San Francisco     PT  "
      ]
     },
     "execution_count": 4,
     "metadata": {},
     "output_type": "execute_result"
    }
   ],
   "source": [
    "df.tail(10)"
   ]
  },
  {
   "cell_type": "markdown",
   "id": "310c93a8",
   "metadata": {},
   "source": [
    "# Finding the shape of the Dataframe"
   ]
  },
  {
   "cell_type": "code",
   "execution_count": 5,
   "id": "550200b6",
   "metadata": {},
   "outputs": [
    {
     "name": "stdout",
     "output_type": "stream",
     "text": [
      "Number of rows:  148654\n",
      "Number of columns:  13\n"
     ]
    }
   ],
   "source": [
    "print(\"Number of rows: \", df.shape[0])\n",
    "print(\"Number of columns: \", df.shape[1])"
   ]
  },
  {
   "cell_type": "code",
   "execution_count": 6,
   "id": "9ab1fed6",
   "metadata": {},
   "outputs": [
    {
     "name": "stdout",
     "output_type": "stream",
     "text": [
      "<class 'pandas.core.frame.DataFrame'>\n",
      "RangeIndex: 148654 entries, 0 to 148653\n",
      "Data columns (total 13 columns):\n",
      " #   Column            Non-Null Count   Dtype  \n",
      "---  ------            --------------   -----  \n",
      " 0   Id                148654 non-null  int64  \n",
      " 1   EmployeeName      148654 non-null  object \n",
      " 2   JobTitle          148654 non-null  object \n",
      " 3   BasePay           148049 non-null  object \n",
      " 4   OvertimePay       148654 non-null  object \n",
      " 5   OtherPay          148654 non-null  object \n",
      " 6   Benefits          112495 non-null  object \n",
      " 7   TotalPay          148654 non-null  float64\n",
      " 8   TotalPayBenefits  148654 non-null  float64\n",
      " 9   Year              148654 non-null  int64  \n",
      " 10  Notes             0 non-null       float64\n",
      " 11  Agency            148654 non-null  object \n",
      " 12  Status            38119 non-null   object \n",
      "dtypes: float64(3), int64(2), object(8)\n",
      "memory usage: 14.7+ MB\n"
     ]
    }
   ],
   "source": [
    "df.info()"
   ]
  },
  {
   "cell_type": "markdown",
   "id": "dc362539",
   "metadata": {},
   "source": [
    "# checking the null value in the dataframe's column"
   ]
  },
  {
   "cell_type": "code",
   "execution_count": 7,
   "id": "893c2419",
   "metadata": {},
   "outputs": [
    {
     "data": {
      "text/plain": [
       "Id                       0\n",
       "EmployeeName             0\n",
       "JobTitle                 0\n",
       "BasePay                605\n",
       "OvertimePay              0\n",
       "OtherPay                 0\n",
       "Benefits             36159\n",
       "TotalPay                 0\n",
       "TotalPayBenefits         0\n",
       "Year                     0\n",
       "Notes               148654\n",
       "Agency                   0\n",
       "Status              110535\n",
       "dtype: int64"
      ]
     },
     "execution_count": 7,
     "metadata": {},
     "output_type": "execute_result"
    }
   ],
   "source": [
    "df.isnull().sum()"
   ]
  },
  {
   "cell_type": "markdown",
   "id": "5a830feb",
   "metadata": {},
   "source": [
    "# Dropping the columns  Id, Notes, Agency, Status"
   ]
  },
  {
   "cell_type": "code",
   "execution_count": 8,
   "id": "493556b0",
   "metadata": {},
   "outputs": [
    {
     "data": {
      "text/plain": [
       "Index(['Id', 'EmployeeName', 'JobTitle', 'BasePay', 'OvertimePay', 'OtherPay',\n",
       "       'Benefits', 'TotalPay', 'TotalPayBenefits', 'Year', 'Notes', 'Agency',\n",
       "       'Status'],\n",
       "      dtype='object')"
      ]
     },
     "execution_count": 8,
     "metadata": {},
     "output_type": "execute_result"
    }
   ],
   "source": [
    "df.columns"
   ]
  },
  {
   "cell_type": "code",
   "execution_count": 9,
   "id": "69d159fb",
   "metadata": {},
   "outputs": [],
   "source": [
    "df.drop(['Id','Notes','Agency','Status'],axis=1,inplace=True)"
   ]
  },
  {
   "cell_type": "code",
   "execution_count": 10,
   "id": "030f3b5a",
   "metadata": {},
   "outputs": [
    {
     "data": {
      "text/html": [
       "<div>\n",
       "<style scoped>\n",
       "    .dataframe tbody tr th:only-of-type {\n",
       "        vertical-align: middle;\n",
       "    }\n",
       "\n",
       "    .dataframe tbody tr th {\n",
       "        vertical-align: top;\n",
       "    }\n",
       "\n",
       "    .dataframe thead th {\n",
       "        text-align: right;\n",
       "    }\n",
       "</style>\n",
       "<table border=\"1\" class=\"dataframe\">\n",
       "  <thead>\n",
       "    <tr style=\"text-align: right;\">\n",
       "      <th></th>\n",
       "      <th>EmployeeName</th>\n",
       "      <th>JobTitle</th>\n",
       "      <th>BasePay</th>\n",
       "      <th>OvertimePay</th>\n",
       "      <th>OtherPay</th>\n",
       "      <th>Benefits</th>\n",
       "      <th>TotalPay</th>\n",
       "      <th>TotalPayBenefits</th>\n",
       "      <th>Year</th>\n",
       "    </tr>\n",
       "  </thead>\n",
       "  <tbody>\n",
       "    <tr>\n",
       "      <th>0</th>\n",
       "      <td>NATHANIEL FORD</td>\n",
       "      <td>GENERAL MANAGER-METROPOLITAN TRANSIT AUTHORITY</td>\n",
       "      <td>167411.18</td>\n",
       "      <td>0.0</td>\n",
       "      <td>400184.25</td>\n",
       "      <td>NaN</td>\n",
       "      <td>567595.43</td>\n",
       "      <td>567595.43</td>\n",
       "      <td>2011</td>\n",
       "    </tr>\n",
       "    <tr>\n",
       "      <th>1</th>\n",
       "      <td>GARY JIMENEZ</td>\n",
       "      <td>CAPTAIN III (POLICE DEPARTMENT)</td>\n",
       "      <td>155966.02</td>\n",
       "      <td>245131.88</td>\n",
       "      <td>137811.38</td>\n",
       "      <td>NaN</td>\n",
       "      <td>538909.28</td>\n",
       "      <td>538909.28</td>\n",
       "      <td>2011</td>\n",
       "    </tr>\n",
       "    <tr>\n",
       "      <th>2</th>\n",
       "      <td>ALBERT PARDINI</td>\n",
       "      <td>CAPTAIN III (POLICE DEPARTMENT)</td>\n",
       "      <td>212739.13</td>\n",
       "      <td>106088.18</td>\n",
       "      <td>16452.6</td>\n",
       "      <td>NaN</td>\n",
       "      <td>335279.91</td>\n",
       "      <td>335279.91</td>\n",
       "      <td>2011</td>\n",
       "    </tr>\n",
       "    <tr>\n",
       "      <th>3</th>\n",
       "      <td>CHRISTOPHER CHONG</td>\n",
       "      <td>WIRE ROPE CABLE MAINTENANCE MECHANIC</td>\n",
       "      <td>77916.0</td>\n",
       "      <td>56120.71</td>\n",
       "      <td>198306.9</td>\n",
       "      <td>NaN</td>\n",
       "      <td>332343.61</td>\n",
       "      <td>332343.61</td>\n",
       "      <td>2011</td>\n",
       "    </tr>\n",
       "    <tr>\n",
       "      <th>4</th>\n",
       "      <td>PATRICK GARDNER</td>\n",
       "      <td>DEPUTY CHIEF OF DEPARTMENT,(FIRE DEPARTMENT)</td>\n",
       "      <td>134401.6</td>\n",
       "      <td>9737.0</td>\n",
       "      <td>182234.59</td>\n",
       "      <td>NaN</td>\n",
       "      <td>326373.19</td>\n",
       "      <td>326373.19</td>\n",
       "      <td>2011</td>\n",
       "    </tr>\n",
       "    <tr>\n",
       "      <th>...</th>\n",
       "      <td>...</td>\n",
       "      <td>...</td>\n",
       "      <td>...</td>\n",
       "      <td>...</td>\n",
       "      <td>...</td>\n",
       "      <td>...</td>\n",
       "      <td>...</td>\n",
       "      <td>...</td>\n",
       "      <td>...</td>\n",
       "    </tr>\n",
       "    <tr>\n",
       "      <th>148649</th>\n",
       "      <td>Roy I Tillery</td>\n",
       "      <td>Custodian</td>\n",
       "      <td>0.00</td>\n",
       "      <td>0.00</td>\n",
       "      <td>0.00</td>\n",
       "      <td>0.00</td>\n",
       "      <td>0.00</td>\n",
       "      <td>0.00</td>\n",
       "      <td>2014</td>\n",
       "    </tr>\n",
       "    <tr>\n",
       "      <th>148650</th>\n",
       "      <td>Not provided</td>\n",
       "      <td>Not provided</td>\n",
       "      <td>Not Provided</td>\n",
       "      <td>Not Provided</td>\n",
       "      <td>Not Provided</td>\n",
       "      <td>Not Provided</td>\n",
       "      <td>0.00</td>\n",
       "      <td>0.00</td>\n",
       "      <td>2014</td>\n",
       "    </tr>\n",
       "    <tr>\n",
       "      <th>148651</th>\n",
       "      <td>Not provided</td>\n",
       "      <td>Not provided</td>\n",
       "      <td>Not Provided</td>\n",
       "      <td>Not Provided</td>\n",
       "      <td>Not Provided</td>\n",
       "      <td>Not Provided</td>\n",
       "      <td>0.00</td>\n",
       "      <td>0.00</td>\n",
       "      <td>2014</td>\n",
       "    </tr>\n",
       "    <tr>\n",
       "      <th>148652</th>\n",
       "      <td>Not provided</td>\n",
       "      <td>Not provided</td>\n",
       "      <td>Not Provided</td>\n",
       "      <td>Not Provided</td>\n",
       "      <td>Not Provided</td>\n",
       "      <td>Not Provided</td>\n",
       "      <td>0.00</td>\n",
       "      <td>0.00</td>\n",
       "      <td>2014</td>\n",
       "    </tr>\n",
       "    <tr>\n",
       "      <th>148653</th>\n",
       "      <td>Joe Lopez</td>\n",
       "      <td>Counselor, Log Cabin Ranch</td>\n",
       "      <td>0.00</td>\n",
       "      <td>0.00</td>\n",
       "      <td>-618.13</td>\n",
       "      <td>0.00</td>\n",
       "      <td>-618.13</td>\n",
       "      <td>-618.13</td>\n",
       "      <td>2014</td>\n",
       "    </tr>\n",
       "  </tbody>\n",
       "</table>\n",
       "<p>148654 rows × 9 columns</p>\n",
       "</div>"
      ],
      "text/plain": [
       "             EmployeeName                                        JobTitle   \n",
       "0          NATHANIEL FORD  GENERAL MANAGER-METROPOLITAN TRANSIT AUTHORITY  \\\n",
       "1            GARY JIMENEZ                 CAPTAIN III (POLICE DEPARTMENT)   \n",
       "2          ALBERT PARDINI                 CAPTAIN III (POLICE DEPARTMENT)   \n",
       "3       CHRISTOPHER CHONG            WIRE ROPE CABLE MAINTENANCE MECHANIC   \n",
       "4         PATRICK GARDNER    DEPUTY CHIEF OF DEPARTMENT,(FIRE DEPARTMENT)   \n",
       "...                   ...                                             ...   \n",
       "148649      Roy I Tillery                                       Custodian   \n",
       "148650       Not provided                                    Not provided   \n",
       "148651       Not provided                                    Not provided   \n",
       "148652       Not provided                                    Not provided   \n",
       "148653          Joe Lopez                      Counselor, Log Cabin Ranch   \n",
       "\n",
       "             BasePay   OvertimePay      OtherPay      Benefits   TotalPay   \n",
       "0          167411.18           0.0     400184.25           NaN  567595.43  \\\n",
       "1          155966.02     245131.88     137811.38           NaN  538909.28   \n",
       "2          212739.13     106088.18       16452.6           NaN  335279.91   \n",
       "3            77916.0      56120.71      198306.9           NaN  332343.61   \n",
       "4           134401.6        9737.0     182234.59           NaN  326373.19   \n",
       "...              ...           ...           ...           ...        ...   \n",
       "148649          0.00          0.00          0.00          0.00       0.00   \n",
       "148650  Not Provided  Not Provided  Not Provided  Not Provided       0.00   \n",
       "148651  Not Provided  Not Provided  Not Provided  Not Provided       0.00   \n",
       "148652  Not Provided  Not Provided  Not Provided  Not Provided       0.00   \n",
       "148653          0.00          0.00       -618.13          0.00    -618.13   \n",
       "\n",
       "        TotalPayBenefits  Year  \n",
       "0              567595.43  2011  \n",
       "1              538909.28  2011  \n",
       "2              335279.91  2011  \n",
       "3              332343.61  2011  \n",
       "4              326373.19  2011  \n",
       "...                  ...   ...  \n",
       "148649              0.00  2014  \n",
       "148650              0.00  2014  \n",
       "148651              0.00  2014  \n",
       "148652              0.00  2014  \n",
       "148653           -618.13  2014  \n",
       "\n",
       "[148654 rows x 9 columns]"
      ]
     },
     "execution_count": 10,
     "metadata": {},
     "output_type": "execute_result"
    }
   ],
   "source": [
    "df"
   ]
  },
  {
   "cell_type": "markdown",
   "id": "f3990515",
   "metadata": {},
   "source": [
    "# occurence of the employee name "
   ]
  },
  {
   "cell_type": "code",
   "execution_count": 11,
   "id": "b32fbc08",
   "metadata": {},
   "outputs": [
    {
     "data": {
      "text/plain": [
       "EmployeeName\n",
       "Kevin Lee                   13\n",
       "Richard Lee                 11\n",
       "Steven Lee                  11\n",
       "William Wong                11\n",
       "Stanley Lee                  9\n",
       "                            ..\n",
       "Jeffrey Skover               1\n",
       "Ken Dever                    1\n",
       "Kevin Whitfield              1\n",
       "Granville McCollough III     1\n",
       "Joe Lopez                    1\n",
       "Name: count, Length: 110811, dtype: int64"
      ]
     },
     "execution_count": 11,
     "metadata": {},
     "output_type": "execute_result"
    }
   ],
   "source": [
    "df['EmployeeName'].value_counts()"
   ]
  },
  {
   "cell_type": "markdown",
   "id": "223bbcdd",
   "metadata": {},
   "source": [
    "# Finding the number of the unique job titles"
   ]
  },
  {
   "cell_type": "code",
   "execution_count": 12,
   "id": "d71cdbdf",
   "metadata": {},
   "outputs": [
    {
     "data": {
      "text/plain": [
       "Index(['EmployeeName', 'JobTitle', 'BasePay', 'OvertimePay', 'OtherPay',\n",
       "       'Benefits', 'TotalPay', 'TotalPayBenefits', 'Year'],\n",
       "      dtype='object')"
      ]
     },
     "execution_count": 12,
     "metadata": {},
     "output_type": "execute_result"
    }
   ],
   "source": [
    "df.columns"
   ]
  },
  {
   "cell_type": "code",
   "execution_count": 13,
   "id": "5e159ee7",
   "metadata": {},
   "outputs": [
    {
     "data": {
      "text/plain": [
       "2159"
      ]
     },
     "execution_count": 13,
     "metadata": {},
     "output_type": "execute_result"
    }
   ],
   "source": [
    "df['JobTitle'].nunique()"
   ]
  },
  {
   "cell_type": "markdown",
   "id": "82630b04",
   "metadata": {},
   "source": [
    "# Total number of job titles that contains \"captain\" in the job title name"
   ]
  },
  {
   "cell_type": "code",
   "execution_count": 14,
   "id": "e012648a",
   "metadata": {},
   "outputs": [
    {
     "data": {
      "text/plain": [
       "Index(['EmployeeName', 'JobTitle', 'BasePay', 'OvertimePay', 'OtherPay',\n",
       "       'Benefits', 'TotalPay', 'TotalPayBenefits', 'Year'],\n",
       "      dtype='object')"
      ]
     },
     "execution_count": 14,
     "metadata": {},
     "output_type": "execute_result"
    }
   ],
   "source": [
    "df.columns"
   ]
  },
  {
   "cell_type": "markdown",
   "id": "91bd875c",
   "metadata": {},
   "source": [
    "since str.contains by default will find the upper case letter, so we have put 'case=False'"
   ]
  },
  {
   "cell_type": "code",
   "execution_count": 15,
   "id": "5d6509a1",
   "metadata": {},
   "outputs": [
    {
     "data": {
      "text/plain": [
       "552"
      ]
     },
     "execution_count": 15,
     "metadata": {},
     "output_type": "execute_result"
    }
   ],
   "source": [
    "len(df[df['JobTitle'].str.contains('captain',case=False)])"
   ]
  },
  {
   "cell_type": "markdown",
   "id": "36bbb800",
   "metadata": {},
   "source": [
    "# Displaying all of the employee from the fire department "
   ]
  },
  {
   "cell_type": "code",
   "execution_count": 16,
   "id": "e937769d",
   "metadata": {},
   "outputs": [
    {
     "data": {
      "text/plain": [
       "4            PATRICK GARDNER\n",
       "6                  ALSON LEE\n",
       "8             MICHAEL MORRIS\n",
       "9         JOANNE HAYES-WHITE\n",
       "10             ARTHUR KENNEY\n",
       "                 ...        \n",
       "145956      Kenneth C Farris\n",
       "147556         Edward A Dunn\n",
       "148021        Kari A Johnson\n",
       "148209          Sheryl K Lee\n",
       "148554       Lawrence F Gatt\n",
       "Name: EmployeeName, Length: 5879, dtype: object"
      ]
     },
     "execution_count": 16,
     "metadata": {},
     "output_type": "execute_result"
    }
   ],
   "source": [
    "df[df['JobTitle'].str.contains('Fire',case=False)]['EmployeeName']"
   ]
  },
  {
   "cell_type": "markdown",
   "id": "913d14d3",
   "metadata": {},
   "source": [
    "# Replace not provided in the columns to nan"
   ]
  },
  {
   "cell_type": "code",
   "execution_count": 30,
   "id": "0d172bc3",
   "metadata": {},
   "outputs": [],
   "source": [
    "df.replace({'EmployeeName':'Not provided','JobTitle':'Not provided','BasePay':'Not Provided','OvertimePay':'Not Provided','OtherPay':'Not Provided','Benefits':'Not Provided','TotalPay':'Not Provided','TotalPayBenefits':'Not Provided'},np.nan, inplace=True)"
   ]
  },
  {
   "cell_type": "code",
   "execution_count": 31,
   "id": "4762cb49",
   "metadata": {},
   "outputs": [
    {
     "data": {
      "text/html": [
       "<div>\n",
       "<style scoped>\n",
       "    .dataframe tbody tr th:only-of-type {\n",
       "        vertical-align: middle;\n",
       "    }\n",
       "\n",
       "    .dataframe tbody tr th {\n",
       "        vertical-align: top;\n",
       "    }\n",
       "\n",
       "    .dataframe thead th {\n",
       "        text-align: right;\n",
       "    }\n",
       "</style>\n",
       "<table border=\"1\" class=\"dataframe\">\n",
       "  <thead>\n",
       "    <tr style=\"text-align: right;\">\n",
       "      <th></th>\n",
       "      <th>EmployeeName</th>\n",
       "      <th>JobTitle</th>\n",
       "      <th>BasePay</th>\n",
       "      <th>OvertimePay</th>\n",
       "      <th>OtherPay</th>\n",
       "      <th>Benefits</th>\n",
       "      <th>TotalPay</th>\n",
       "      <th>TotalPayBenefits</th>\n",
       "      <th>Year</th>\n",
       "    </tr>\n",
       "  </thead>\n",
       "  <tbody>\n",
       "    <tr>\n",
       "      <th>0</th>\n",
       "      <td>NATHANIEL FORD</td>\n",
       "      <td>GENERAL MANAGER-METROPOLITAN TRANSIT AUTHORITY</td>\n",
       "      <td>167411.18</td>\n",
       "      <td>0.0</td>\n",
       "      <td>400184.25</td>\n",
       "      <td>NaN</td>\n",
       "      <td>567595.43</td>\n",
       "      <td>567595.43</td>\n",
       "      <td>2011</td>\n",
       "    </tr>\n",
       "    <tr>\n",
       "      <th>1</th>\n",
       "      <td>GARY JIMENEZ</td>\n",
       "      <td>CAPTAIN III (POLICE DEPARTMENT)</td>\n",
       "      <td>155966.02</td>\n",
       "      <td>245131.88</td>\n",
       "      <td>137811.38</td>\n",
       "      <td>NaN</td>\n",
       "      <td>538909.28</td>\n",
       "      <td>538909.28</td>\n",
       "      <td>2011</td>\n",
       "    </tr>\n",
       "    <tr>\n",
       "      <th>2</th>\n",
       "      <td>ALBERT PARDINI</td>\n",
       "      <td>CAPTAIN III (POLICE DEPARTMENT)</td>\n",
       "      <td>212739.13</td>\n",
       "      <td>106088.18</td>\n",
       "      <td>16452.6</td>\n",
       "      <td>NaN</td>\n",
       "      <td>335279.91</td>\n",
       "      <td>335279.91</td>\n",
       "      <td>2011</td>\n",
       "    </tr>\n",
       "    <tr>\n",
       "      <th>3</th>\n",
       "      <td>CHRISTOPHER CHONG</td>\n",
       "      <td>WIRE ROPE CABLE MAINTENANCE MECHANIC</td>\n",
       "      <td>77916.00</td>\n",
       "      <td>56120.71</td>\n",
       "      <td>198306.9</td>\n",
       "      <td>NaN</td>\n",
       "      <td>332343.61</td>\n",
       "      <td>332343.61</td>\n",
       "      <td>2011</td>\n",
       "    </tr>\n",
       "    <tr>\n",
       "      <th>4</th>\n",
       "      <td>PATRICK GARDNER</td>\n",
       "      <td>DEPUTY CHIEF OF DEPARTMENT,(FIRE DEPARTMENT)</td>\n",
       "      <td>134401.60</td>\n",
       "      <td>9737.0</td>\n",
       "      <td>182234.59</td>\n",
       "      <td>NaN</td>\n",
       "      <td>326373.19</td>\n",
       "      <td>326373.19</td>\n",
       "      <td>2011</td>\n",
       "    </tr>\n",
       "    <tr>\n",
       "      <th>...</th>\n",
       "      <td>...</td>\n",
       "      <td>...</td>\n",
       "      <td>...</td>\n",
       "      <td>...</td>\n",
       "      <td>...</td>\n",
       "      <td>...</td>\n",
       "      <td>...</td>\n",
       "      <td>...</td>\n",
       "      <td>...</td>\n",
       "    </tr>\n",
       "    <tr>\n",
       "      <th>148649</th>\n",
       "      <td>Roy I Tillery</td>\n",
       "      <td>Custodian</td>\n",
       "      <td>0.00</td>\n",
       "      <td>0.00</td>\n",
       "      <td>0.00</td>\n",
       "      <td>0.00</td>\n",
       "      <td>0.00</td>\n",
       "      <td>0.00</td>\n",
       "      <td>2014</td>\n",
       "    </tr>\n",
       "    <tr>\n",
       "      <th>148650</th>\n",
       "      <td>NaN</td>\n",
       "      <td>NaN</td>\n",
       "      <td>NaN</td>\n",
       "      <td>NaN</td>\n",
       "      <td>NaN</td>\n",
       "      <td>NaN</td>\n",
       "      <td>0.00</td>\n",
       "      <td>0.00</td>\n",
       "      <td>2014</td>\n",
       "    </tr>\n",
       "    <tr>\n",
       "      <th>148651</th>\n",
       "      <td>NaN</td>\n",
       "      <td>NaN</td>\n",
       "      <td>NaN</td>\n",
       "      <td>NaN</td>\n",
       "      <td>NaN</td>\n",
       "      <td>NaN</td>\n",
       "      <td>0.00</td>\n",
       "      <td>0.00</td>\n",
       "      <td>2014</td>\n",
       "    </tr>\n",
       "    <tr>\n",
       "      <th>148652</th>\n",
       "      <td>NaN</td>\n",
       "      <td>NaN</td>\n",
       "      <td>NaN</td>\n",
       "      <td>NaN</td>\n",
       "      <td>NaN</td>\n",
       "      <td>NaN</td>\n",
       "      <td>0.00</td>\n",
       "      <td>0.00</td>\n",
       "      <td>2014</td>\n",
       "    </tr>\n",
       "    <tr>\n",
       "      <th>148653</th>\n",
       "      <td>Joe Lopez</td>\n",
       "      <td>Counselor, Log Cabin Ranch</td>\n",
       "      <td>0.00</td>\n",
       "      <td>0.00</td>\n",
       "      <td>-618.13</td>\n",
       "      <td>0.00</td>\n",
       "      <td>-618.13</td>\n",
       "      <td>-618.13</td>\n",
       "      <td>2014</td>\n",
       "    </tr>\n",
       "  </tbody>\n",
       "</table>\n",
       "<p>148654 rows × 9 columns</p>\n",
       "</div>"
      ],
      "text/plain": [
       "             EmployeeName                                        JobTitle   \n",
       "0          NATHANIEL FORD  GENERAL MANAGER-METROPOLITAN TRANSIT AUTHORITY  \\\n",
       "1            GARY JIMENEZ                 CAPTAIN III (POLICE DEPARTMENT)   \n",
       "2          ALBERT PARDINI                 CAPTAIN III (POLICE DEPARTMENT)   \n",
       "3       CHRISTOPHER CHONG            WIRE ROPE CABLE MAINTENANCE MECHANIC   \n",
       "4         PATRICK GARDNER    DEPUTY CHIEF OF DEPARTMENT,(FIRE DEPARTMENT)   \n",
       "...                   ...                                             ...   \n",
       "148649      Roy I Tillery                                       Custodian   \n",
       "148650                NaN                                             NaN   \n",
       "148651                NaN                                             NaN   \n",
       "148652                NaN                                             NaN   \n",
       "148653          Joe Lopez                      Counselor, Log Cabin Ranch   \n",
       "\n",
       "          BasePay OvertimePay   OtherPay Benefits   TotalPay   \n",
       "0       167411.18         0.0  400184.25      NaN  567595.43  \\\n",
       "1       155966.02   245131.88  137811.38      NaN  538909.28   \n",
       "2       212739.13   106088.18    16452.6      NaN  335279.91   \n",
       "3        77916.00    56120.71   198306.9      NaN  332343.61   \n",
       "4       134401.60      9737.0  182234.59      NaN  326373.19   \n",
       "...           ...         ...        ...      ...        ...   \n",
       "148649       0.00        0.00       0.00     0.00       0.00   \n",
       "148650        NaN         NaN        NaN      NaN       0.00   \n",
       "148651        NaN         NaN        NaN      NaN       0.00   \n",
       "148652        NaN         NaN        NaN      NaN       0.00   \n",
       "148653       0.00        0.00    -618.13     0.00    -618.13   \n",
       "\n",
       "        TotalPayBenefits  Year  \n",
       "0              567595.43  2011  \n",
       "1              538909.28  2011  \n",
       "2              335279.91  2011  \n",
       "3              332343.61  2011  \n",
       "4              326373.19  2011  \n",
       "...                  ...   ...  \n",
       "148649              0.00  2014  \n",
       "148650              0.00  2014  \n",
       "148651              0.00  2014  \n",
       "148652              0.00  2014  \n",
       "148653           -618.13  2014  \n",
       "\n",
       "[148654 rows x 9 columns]"
      ]
     },
     "execution_count": 31,
     "metadata": {},
     "output_type": "execute_result"
    }
   ],
   "source": [
    "df"
   ]
  },
  {
   "cell_type": "markdown",
   "id": "d89a91a0",
   "metadata": {},
   "source": [
    "# Finding the job titile of person named JOE LOPEZ"
   ]
  },
  {
   "cell_type": "code",
   "execution_count": 19,
   "id": "3733d019",
   "metadata": {},
   "outputs": [
    {
     "data": {
      "text/plain": [
       "Index(['EmployeeName', 'JobTitle', 'BasePay', 'OvertimePay', 'OtherPay',\n",
       "       'Benefits', 'TotalPay', 'TotalPayBenefits', 'Year'],\n",
       "      dtype='object')"
      ]
     },
     "execution_count": 19,
     "metadata": {},
     "output_type": "execute_result"
    }
   ],
   "source": [
    "df.columns"
   ]
  },
  {
   "cell_type": "code",
   "execution_count": 20,
   "id": "8e19b441",
   "metadata": {},
   "outputs": [
    {
     "data": {
      "text/plain": [
       "148653    Counselor, Log Cabin Ranch\n",
       "Name: JobTitle, dtype: object"
      ]
     },
     "execution_count": 20,
     "metadata": {},
     "output_type": "execute_result"
    }
   ],
   "source": [
    "df[df['EmployeeName']=='Joe Lopez']['JobTitle']\n"
   ]
  },
  {
   "cell_type": "markdown",
   "id": "f3036a8e",
   "metadata": {},
   "source": [
    "another alternative method"
   ]
  },
  {
   "cell_type": "code",
   "execution_count": 21,
   "id": "cd25141b",
   "metadata": {},
   "outputs": [
    {
     "data": {
      "text/plain": [
       "148653    Counselor, Log Cabin Ranch\n",
       "Name: JobTitle, dtype: object"
      ]
     },
     "execution_count": 21,
     "metadata": {},
     "output_type": "execute_result"
    }
   ],
   "source": [
    "df.loc[df['EmployeeName']=='Joe Lopez'] ['JobTitle']"
   ]
  },
  {
   "cell_type": "markdown",
   "id": "745bafdd",
   "metadata": {},
   "source": [
    "# Finding the much Joe lopez makes including benefits"
   ]
  },
  {
   "cell_type": "code",
   "execution_count": 22,
   "id": "ad1914b9",
   "metadata": {},
   "outputs": [
    {
     "data": {
      "text/plain": [
       "148653   -618.13\n",
       "Name: TotalPayBenefits, dtype: float64"
      ]
     },
     "execution_count": 22,
     "metadata": {},
     "output_type": "execute_result"
    }
   ],
   "source": [
    "df.loc[df['EmployeeName']=='Joe Lopez']['TotalPayBenefits']"
   ]
  },
  {
   "cell_type": "markdown",
   "id": "8226c0d0",
   "metadata": {},
   "source": [
    "# Finding the average base pay of an employee having the job title ACCOUNTANT"
   ]
  },
  {
   "cell_type": "code",
   "execution_count": 26,
   "id": "1d460913",
   "metadata": {
    "scrolled": true
   },
   "outputs": [
    {
     "name": "stdout",
     "output_type": "stream",
     "text": [
      "<class 'pandas.core.frame.DataFrame'>\n",
      "RangeIndex: 148654 entries, 0 to 148653\n",
      "Data columns (total 9 columns):\n",
      " #   Column            Non-Null Count   Dtype  \n",
      "---  ------            --------------   -----  \n",
      " 0   EmployeeName      148650 non-null  object \n",
      " 1   JobTitle          148654 non-null  object \n",
      " 2   BasePay           148045 non-null  object \n",
      " 3   OvertimePay       148650 non-null  object \n",
      " 4   OtherPay          148650 non-null  object \n",
      " 5   Benefits          112491 non-null  object \n",
      " 6   TotalPay          148654 non-null  float64\n",
      " 7   TotalPayBenefits  148654 non-null  float64\n",
      " 8   Year              148654 non-null  int64  \n",
      "dtypes: float64(2), int64(1), object(6)\n",
      "memory usage: 10.2+ MB\n"
     ]
    }
   ],
   "source": [
    "df.info()"
   ]
  },
  {
   "cell_type": "markdown",
   "id": "5f50b6ea",
   "metadata": {},
   "source": [
    "Changing the data type of column BasePay"
   ]
  },
  {
   "cell_type": "code",
   "execution_count": 32,
   "id": "1ea2d15d",
   "metadata": {},
   "outputs": [],
   "source": [
    "df['BasePay'] = df['BasePay'].astype(float)"
   ]
  },
  {
   "cell_type": "code",
   "execution_count": 33,
   "id": "be6b9138",
   "metadata": {},
   "outputs": [
    {
     "name": "stdout",
     "output_type": "stream",
     "text": [
      "<class 'pandas.core.frame.DataFrame'>\n",
      "RangeIndex: 148654 entries, 0 to 148653\n",
      "Data columns (total 9 columns):\n",
      " #   Column            Non-Null Count   Dtype  \n",
      "---  ------            --------------   -----  \n",
      " 0   EmployeeName      148650 non-null  object \n",
      " 1   JobTitle          148650 non-null  object \n",
      " 2   BasePay           148045 non-null  float64\n",
      " 3   OvertimePay       148650 non-null  object \n",
      " 4   OtherPay          148650 non-null  object \n",
      " 5   Benefits          112491 non-null  object \n",
      " 6   TotalPay          148654 non-null  float64\n",
      " 7   TotalPayBenefits  148654 non-null  float64\n",
      " 8   Year              148654 non-null  int64  \n",
      "dtypes: float64(3), int64(1), object(5)\n",
      "memory usage: 10.2+ MB\n"
     ]
    }
   ],
   "source": [
    "df.info()"
   ]
  },
  {
   "cell_type": "code",
   "execution_count": 36,
   "id": "aa0389c6",
   "metadata": {},
   "outputs": [
    {
     "data": {
      "text/plain": [
       "46643.172"
      ]
     },
     "execution_count": 36,
     "metadata": {},
     "output_type": "execute_result"
    }
   ],
   "source": [
    "df[df['JobTitle']=='ACCOUNTANT']['BasePay'].mean()"
   ]
  },
  {
   "cell_type": "markdown",
   "id": "555e6116",
   "metadata": {},
   "source": [
    "# Finding the 5 most common jobs"
   ]
  },
  {
   "cell_type": "code",
   "execution_count": 39,
   "id": "90808516",
   "metadata": {},
   "outputs": [
    {
     "data": {
      "text/plain": [
       "JobTitle\n",
       "Transit Operator                        7036\n",
       "Special Nurse                           4389\n",
       "Registered Nurse                        3736\n",
       "Public Svc Aide-Public Works            2518\n",
       "Police Officer 3                        2421\n",
       "                                        ... \n",
       "BUILDING SERVICES TECHNICIAN               1\n",
       "TRIAL DELAY REDUCTION COORDINATOR          1\n",
       "POWERHOUSE ELECTRICIAN SUPERVISOR II       1\n",
       "CHIEF NURSERY SPECIALIST                   1\n",
       "Cashier 3                                  1\n",
       "Name: count, Length: 2158, dtype: int64"
      ]
     },
     "execution_count": 39,
     "metadata": {},
     "output_type": "execute_result"
    }
   ],
   "source": [
    "df['JobTitle'].value_counts()"
   ]
  },
  {
   "cell_type": "code",
   "execution_count": null,
   "id": "ad453cc7",
   "metadata": {},
   "outputs": [],
   "source": []
  }
 ],
 "metadata": {
  "kernelspec": {
   "display_name": "Python 3 (ipykernel)",
   "language": "python",
   "name": "python3"
  },
  "language_info": {
   "codemirror_mode": {
    "name": "ipython",
    "version": 3
   },
   "file_extension": ".py",
   "mimetype": "text/x-python",
   "name": "python",
   "nbconvert_exporter": "python",
   "pygments_lexer": "ipython3",
   "version": "3.10.9"
  }
 },
 "nbformat": 4,
 "nbformat_minor": 5
}
